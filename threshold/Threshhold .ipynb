{
 "cells": [
  {
   "cell_type": "code",
   "execution_count": 1,
   "id": "097c4516",
   "metadata": {},
   "outputs": [],
   "source": [
    "from deepface.detectors.FaceDetector import detect_faces,build_model\n",
    "from cv2 import imread,imshow,waitKey,FONT_HERSHEY_SIMPLEX,rectangle,putText\n",
    "from deepface.DeepFace import represent\n",
    "from elasticsearch import Elasticsearch\n",
    "import os\n"
   ]
  },
  {
   "cell_type": "code",
   "execution_count": 2,
   "id": "677693ac",
   "metadata": {},
   "outputs": [],
   "source": [
    "es = Elasticsearch(\"http://localhost:9200\")\n"
   ]
  },
  {
   "cell_type": "code",
   "execution_count": 3,
   "id": "2468e513",
   "metadata": {},
   "outputs": [],
   "source": [
    "identities = {}\n",
    "directory=\"C:\\\\Users\\\\iheb9\\\\PycharmProjects\\\\imagesscrapping\\\\imgs\\\\\"\n",
    "l=[]\n",
    "for filename in os.listdir(directory):\n",
    "    name=filename.split('.')[0][:-1]\n",
    "    if name not in identities.keys():  \n",
    "        l=[]\n",
    "    if  filename.split('.')[0][:-1]==name:\n",
    "        l.append(directory+filename)\n",
    "        identities[name]=l\n"
   ]
  },
  {
   "cell_type": "code",
   "execution_count": 4,
   "id": "0a9d3413",
   "metadata": {},
   "outputs": [],
   "source": [
    "def comparefaces(img_path_to_comp,threshhold):\n",
    "    names = []\n",
    "    detector_name = \"mtcnn\"\n",
    "    detector = build_model(detector_name)\n",
    "    models = [\"Facenet512\", \"Dlib\", \"ArcFace\"]\n",
    "    # compare_faces( using 1 feature vector):\n",
    "    img1 = imread(img_path_to_comp)\n",
    "    obj1 = detect_faces(detector, detector_name, img1, align=True)\n",
    "    i = 0\n",
    "    for facei in obj1:\n",
    "        i += 1\n",
    "        embedding_dlib1 = represent(facei[0], model_name=models[1], enforce_detection=False ,align=True)\n",
    "        embedding_arcface1 = represent(facei[0], model_name=models[2], enforce_detection=False,align=True)\n",
    "        embedding_facenet1 = represent(facei[0], model_name=models[0], enforce_detection=False,align=True)\n",
    "\n",
    "        #print(\"Face\", i, \"\")\n",
    "        queryDlib = {\n",
    "\n",
    "            \"query\": {\n",
    "                \"elastiknn_nearest_neighbors\": {\n",
    "                    \"field\": \"Dlib\",\n",
    "                    \"vec\": {\n",
    "                        \"values\": embedding_dlib1\n",
    "                    },\n",
    "                    \"similarity\": \"l2\",\n",
    "                    \"model\": \"exact\",\n",
    "\n",
    "                }\n",
    "            }\n",
    "\n",
    "        }\n",
    "        queryFacenet = {\n",
    "\n",
    "            \"query\": {\n",
    "                \"elastiknn_nearest_neighbors\": {\n",
    "                    \"field\": \"Facenet512\",\n",
    "                    \"vec\": {\n",
    "                        \"values\": embedding_facenet1\n",
    "                    },\n",
    "                    \"similarity\": \"cosine\",\n",
    "                    \"model\": \"exact\",\n",
    "\n",
    "                }\n",
    "            }\n",
    "\n",
    "        }\n",
    "        queryArcface = {\n",
    "\n",
    "            \"query\": {\n",
    "                \"elastiknn_nearest_neighbors\": {\n",
    "                    \"field\": \"ArcFace\",\n",
    "                    \"vec\": {\n",
    "                        \"values\": embedding_arcface1\n",
    "                    },\n",
    "                    \"similarity\": \"cosine\",\n",
    "                    \"model\": \"exact\",\n",
    "\n",
    "                }\n",
    "            }\n",
    "\n",
    "        }\n",
    "        responseDlib = es.search(index=\"celebfaces\", body=queryDlib)\n",
    "        responseFacenet = es.search(index=\"celebfaces\", body=queryFacenet)\n",
    "        responseArcface = es.search(index=\"celebfaces\", body=queryArcface)\n",
    "        matches = []\n",
    "        for hit in responseDlib['hits']['hits']:\n",
    "     \n",
    "            matches.append((hit['_source']['fname']+' '+hit['_source']['lname'], 1-float(hit['_score']), 'dlib'))\n",
    "\n",
    "        for hit in responseFacenet['hits']['hits']:\n",
    "          \n",
    "            matches.append((hit['_source']['fname']+' '+hit['_source']['lname'], float(hit['_score'])-1, 'facenet'))\n",
    "\n",
    "        for hit in responseArcface['hits']['hits']:\n",
    "      \n",
    "            matches.append((hit['_source']['fname']+' '+hit['_source']['lname'], float(hit['_score'])-1, 'arcface'))\n",
    "\n",
    "        dist = [x[1] for x in matches]\n",
    "        item = matches[dist.index(max(dist))]\n",
    "        if item[1]<threshhold:\n",
    "            #print(\"==> This face is unkown\")\n",
    "            names.append('unkown')\n",
    "            return('unknown',[item[1]])\n",
    "        else:\n",
    "            names.append(item[0])\n",
    "            #print(\"==> This face  matches with \", item[0], \",the score is\", item[1], ' using ', item[2])\n",
    "            #print(\"there are \", len(obj1), \" faces\")\n",
    "        return ((item[0],item[1]))\n"
   ]
  },
  {
   "cell_type": "code",
   "execution_count": 5,
   "id": "c0f31645",
   "metadata": {},
   "outputs": [
    {
     "data": {
      "text/plain": [
       "('Adele Laurie', 0.5370695999999999)"
      ]
     },
     "execution_count": 5,
     "metadata": {},
     "output_type": "execute_result"
    }
   ],
   "source": [
    "comparefaces(\"C:\\\\Users\\\\iheb9\\\\PycharmProjects\\\\imagesscrapping\\\\imgs\\\\Adele Laurie1.jpg\",0.5)"
   ]
  },
  {
   "cell_type": "code",
   "execution_count": 6,
   "id": "02f352a8",
   "metadata": {},
   "outputs": [],
   "source": [
    "import matplotlib.pyplot as plt"
   ]
  },
  {
   "cell_type": "code",
   "execution_count": 7,
   "id": "4e8d1e49",
   "metadata": {},
   "outputs": [
    {
     "name": "stdout",
     "output_type": "stream",
     "text": [
      "['billie eilish', 'cristiano ronaldo', 'dwayne johnson', 'jennifer lawrence', 'karim benzema', 'lionel messi', 'neymar jr', 'Adele Laurie', 'andreas inesta', 'billie eilish', 'carlo ancelotti', 'celine dion', 'cristiano ronaldo', 'david alaba', 'dwayne johnson', 'jennifer lawrence', 'karim benzema', 'lionel messi', 'neymar jr', 'robert lewandowski', 'sergio ramos', 'toni kroos', 'zinedine zidane']\n"
     ]
    }
   ],
   "source": [
    "queryName={\n",
    "  \"query\": {\n",
    "    \"match_all\": {\n",
    "    }\n",
    "  },\n",
    "    \"size\":1000\n",
    "}\n",
    "\n",
    "responseName = es.search(index=\"celebfaces\", body=queryName)\n",
    "names = []\n",
    "for hit in responseName['hits']['hits']:\n",
    "    names.append(hit['_source']['fname']+' '+hit['_source']['lname'])\n",
    "print(names)\n"
   ]
  },
  {
   "cell_type": "code",
   "execution_count": 8,
   "id": "89293b0f",
   "metadata": {},
   "outputs": [
    {
     "name": "stdout",
     "output_type": "stream",
     "text": [
      "0\n",
      "0.01\n",
      "0.02\n",
      "0.03\n",
      "0.04\n",
      "0.05\n",
      "0.060000000000000005\n",
      "0.07\n",
      "0.08\n",
      "0.09\n",
      "0.09999999999999999\n",
      "0.10999999999999999\n",
      "0.11999999999999998\n",
      "0.12999999999999998\n",
      "0.13999999999999999\n",
      "0.15\n",
      "0.16\n",
      "0.17\n",
      "0.18000000000000002\n",
      "0.19000000000000003\n",
      "0.20000000000000004\n",
      "0.21000000000000005\n",
      "0.22000000000000006\n",
      "0.23000000000000007\n",
      "0.24000000000000007\n",
      "0.25000000000000006\n",
      "0.26000000000000006\n",
      "0.2700000000000001\n",
      "0.2800000000000001\n",
      "0.2900000000000001\n",
      "0.3000000000000001\n",
      "0.3100000000000001\n",
      "0.3200000000000001\n",
      "0.3300000000000001\n",
      "0.34000000000000014\n",
      "0.35000000000000014\n",
      "0.36000000000000015\n",
      "0.37000000000000016\n",
      "0.38000000000000017\n",
      "0.3900000000000002\n",
      "0.4000000000000002\n",
      "0.4100000000000002\n",
      "0.4200000000000002\n",
      "0.4300000000000002\n",
      "0.4400000000000002\n",
      "0.45000000000000023\n",
      "0.46000000000000024\n",
      "0.47000000000000025\n",
      "0.48000000000000026\n",
      "0.49000000000000027\n",
      "0.5000000000000002\n",
      "0.5100000000000002\n",
      "0.5200000000000002\n",
      "0.5300000000000002\n",
      "0.5400000000000003\n",
      "0.5500000000000003\n",
      "0.5600000000000003\n",
      "0.5700000000000003\n",
      "0.5800000000000003\n",
      "0.5900000000000003\n",
      "0.6000000000000003\n",
      "0.6100000000000003\n",
      "0.6200000000000003\n",
      "0.6300000000000003\n",
      "0.6400000000000003\n",
      "0.6500000000000004\n",
      "0.6600000000000004\n",
      "0.6700000000000004\n",
      "0.6800000000000004\n",
      "0.6900000000000004\n",
      "0.7000000000000004\n",
      "0.7100000000000004\n",
      "0.7200000000000004\n",
      "0.7300000000000004\n",
      "0.7400000000000004\n",
      "0.7500000000000004\n",
      "0.7600000000000005\n",
      "0.7700000000000005\n",
      "0.7800000000000005\n",
      "0.7900000000000005\n",
      "0.8000000000000005\n",
      "0.8100000000000005\n",
      "0.8200000000000005\n",
      "0.8300000000000005\n",
      "0.8400000000000005\n",
      "0.8500000000000005\n",
      "0.8600000000000005\n",
      "0.8700000000000006\n",
      "0.8800000000000006\n",
      "0.8900000000000006\n",
      "0.9000000000000006\n",
      "0.9100000000000006\n",
      "0.9200000000000006\n",
      "0.9300000000000006\n",
      "0.9400000000000006\n",
      "0.9500000000000006\n",
      "0.9600000000000006\n",
      "0.9700000000000006\n",
      "0.9800000000000006\n",
      "0.9900000000000007\n"
     ]
    }
   ],
   "source": [
    "x=[]\n",
    "yacc=[]\n",
    "yprec=[]\n",
    "yrec=[]\n",
    "yroc=[]\n",
    "threshhold=0\n",
    "while (threshhold<1):\n",
    "    TP=0\n",
    "    TN=0\n",
    "    FP=0\n",
    "    FN=0\n",
    "    print(threshhold)\n",
    "    for item in identities:\n",
    "        for e in identities[item]:\n",
    "            result=comparefaces(e,threshhold)\n",
    "            if(result[0].lower()==item):\n",
    "                #print(result[0],item)\n",
    "                TP+=1\n",
    "            if (result[0].lower()!=item and result[0].lower()!='unknown'):\n",
    "                #print(result[0],item)\n",
    "                FP+=1\n",
    "            if (result[0].lower()=='unknown' and item not in names):\n",
    "                TN+=1\n",
    "            if(result[0].lower()=='unknown' and item in names):\n",
    "                FN+=1\n",
    "    accuracy=(TP+TN)/(TP+TN+FP+FN)\n",
    "    precision=(TP)/(TP+FP)\n",
    "    recall=(TP)/(TP+FN)\n",
    "    TPR=(TP)/(TP+FN)\n",
    "    FPR=(FP)/(FP+TN)\n",
    "    x.append(threshhold) \n",
    "    yroc.append(abs(TPR+FPR-1))\n",
    "    yacc.append(accuracy)\n",
    "    yprec.append(precision)\n",
    "    yrec.append(recall)\n",
    "    threshhold+=0.01\n",
    "\n"
   ]
  },
  {
   "cell_type": "code",
   "execution_count": 9,
   "id": "0de0039c",
   "metadata": {},
   "outputs": [
    {
     "data": {
      "text/plain": [
       "Text(0.5, 1.0, 'recall graph')"
      ]
     },
     "execution_count": 9,
     "metadata": {},
     "output_type": "execute_result"
    },
    {
     "data": {
      "image/png": "[encoded data removed]",
      "text/plain": [
       "<Figure size 432x288 with 1 Axes>"
      ]
     },
     "metadata": {
      "needs_background": "light"
     },
     "output_type": "display_data"
    }
   ],
   "source": [
    "import numpy as np\n",
    "plt.plot(x, yrec)\n",
    "plt.xlabel('threshhold') \n",
    "plt.ylabel('recall') \n",
    "plt.xticks(np.arange(0, 1, 0.1))\n",
    "\n",
    "plt.title(\"recall graph\")"
   ]
  },
  {
   "cell_type": "code",
   "execution_count": 10,
   "id": "8be1e0cf",
   "metadata": {},
   "outputs": [],
   "source": [
    "import numpy as np"
   ]
  },
  {
   "cell_type": "code",
   "execution_count": 11,
   "id": "89de66c5",
   "metadata": {},
   "outputs": [
    {
     "name": "stdout",
     "output_type": "stream",
     "text": [
      "0.47000000000000025\n"
     ]
    },
    {
     "data": {
      "text/plain": [
       "Text(0.5, 1.0, 'accuracy graph')"
      ]
     },
     "execution_count": 11,
     "metadata": {},
     "output_type": "execute_result"
    },
    {
     "data": {
      "image/png": "[encoded data removed]",
      "text/plain": [
       "<Figure size 432x288 with 1 Axes>"
      ]
     },
     "metadata": {
      "needs_background": "light"
     },
     "output_type": "display_data"
    }
   ],
   "source": [
    "plt.plot(x, yacc)\n",
    "\n",
    "plt.xlabel('threshhold') \n",
    "plt.ylabel('accuracy') \n",
    "plt.xticks(np.arange(0, 1, 0.1))\n",
    "z=zip(yacc,x)\n",
    "d=dict(z)\n",
    "print(d[max(yacc)])\n",
    "plt.title(\"accuracy graph\")"
   ]
  },
  {
   "cell_type": "markdown",
   "id": "4aca108a",
   "metadata": {},
   "source": [
    "on the accuracy plot the maximum is 0.47"
   ]
  },
  {
   "cell_type": "code",
   "execution_count": 12,
   "id": "cc96fdde",
   "metadata": {},
   "outputs": [
    {
     "data": {
      "text/plain": [
       "Text(0.5, 1.0, 'Precision graph')"
      ]
     },
     "execution_count": 12,
     "metadata": {},
     "output_type": "execute_result"
    },
    {
     "data": {
      "image/png": "[encoded data removed]",
      "text/plain": [
       "<Figure size 432x288 with 1 Axes>"
      ]
     },
     "metadata": {
      "needs_background": "light"
     },
     "output_type": "display_data"
    }
   ],
   "source": [
    "plt.plot(x, yprec)\n",
    "plt.xlabel('threshhold') \n",
    "plt.ylabel('precision') \n",
    "plt.xticks(np.arange(0, 1, 0.1))\n",
    "\n",
    "plt.title(\"Precision graph\")"
   ]
  },
  {
   "cell_type": "code",
   "execution_count": 16,
   "id": "1dc67d41",
   "metadata": {},
   "outputs": [
    {
     "name": "stdout",
     "output_type": "stream",
     "text": [
      "0.6300000000000003\n"
     ]
    },
    {
     "data": {
      "text/plain": [
       "Text(0.5, 1.0, 'graph')"
      ]
     },
     "execution_count": 16,
     "metadata": {},
     "output_type": "execute_result"
    },
    {
     "data": {
      "image/png": "[encoded data removed]",
      "text/plain": [
       "<Figure size 432x288 with 1 Axes>"
      ]
     },
     "metadata": {
      "needs_background": "light"
     },
     "output_type": "display_data"
    }
   ],
   "source": [
    "plt.plot(x, yroc)\n",
    "plt.xlabel('threshhold') \n",
    "plt.ylabel('|FPR+TPR-1|') \n",
    "plt.xticks(np.arange(0, 1.1, 0.1))\n",
    "z=zip(yroc,x)\n",
    "d=dict(z)\n",
    "print(d[min(yroc)])\n",
    "plt.title(\"graph\")"
   ]
  },
  {
   "cell_type": "markdown",
   "id": "466c1ed8",
   "metadata": {},
   "source": [
    "on the roc curve the minimum is 0.63"
   ]
  },
  {
   "cell_type": "code",
   "execution_count": null,
   "id": "e9501f39",
   "metadata": {},
   "outputs": [],
   "source": []
  },
  {
   "cell_type": "markdown",
   "id": "5590dfa5",
   "metadata": {},
   "source": []
  }
 ],
 "metadata": {
  "kernelspec": {
   "display_name": "Python 3 (ipykernel)",
   "language": "python",
   "name": "python3"
  },
  "language_info": {
   "codemirror_mode": {
    "name": "ipython",
    "version": 3
   },
   "file_extension": ".py",
   "mimetype": "text/x-python",
   "name": "python",
   "nbconvert_exporter": "python",
   "pygments_lexer": "ipython3",
   "version": "3.9.7"
  }
 },
 "nbformat": 4,
 "nbformat_minor": 5
}
